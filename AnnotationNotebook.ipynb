{
 "cells": [
  {
   "cell_type": "markdown",
   "metadata": {},
   "source": [
    "# Annotation (Labeling) of Multivariate Time Series Data\n",
    "<strong>Abraham C. Montes</strong> <br>\n",
    "<a href=\"https://www.linkedin.com/in/abraham-c-montes-6661a841/\">LinkedIn</a>|<a href=\"https://www.abraham-montes.com/\">Personal Site</a><br>\n",
    "The University of Texas at Austin | <a href=\"https://drilling.utexas.edu/\">RAPID research consortium</a>"
   ]
  },
  {
   "cell_type": "markdown",
   "metadata": {},
   "source": [
    "The purpose of this notebook is to show how to annotate (label) multivariate time-series data by using interactive widgets available in Matploblib. The tool leverages two classes: TimeSeries and PreAnnotator. The first one encapsulates the time series data and the methods to manipulate it. The latter is an auxiliary class to pre-annotate the data with a custom logic. In the case of drilling data, for example, this pre-annotation logic consists of a first-order logic inference tool. <br>\n"
   ]
  },
  {
   "cell_type": "markdown",
   "metadata": {},
   "source": [
    "<strong>Library requirements:</strong> Ensure you have installed PyQt5 through your preferred package handler (e.g., pip, conda, etc.)."
   ]
  },
  {
   "cell_type": "markdown",
   "metadata": {},
   "source": [
    "______________________________________________________"
   ]
  },
  {
   "cell_type": "markdown",
   "metadata": {},
   "source": [
    "## Case 1: Annotation of time series data contained in one CSV file"
   ]
  },
  {
   "cell_type": "markdown",
   "metadata": {},
   "source": [
    "#### Step 1: Implement the correct pre-annotation logic.\n",
    "Open the PreAnnotator class and make sure the $\\texttt{annotate( )}$ function has the correct logic for pre-annotation. This logic is usually a set of if-then rules, but you may implement more sophisticated logic. "
   ]
  },
  {
   "cell_type": "markdown",
   "metadata": {},
   "source": [
    "#### Step 2: Create a PreAnnotator object."
   ]
  },
  {
   "cell_type": "code",
   "execution_count": 1,
   "metadata": {},
   "outputs": [],
   "source": [
    "from PreAnnotator import PreAnnotator\n",
    "pa          = PreAnnotator(  )"
   ]
  },
  {
   "cell_type": "markdown",
   "metadata": {},
   "source": [
    "#### Step 3: Create a TimeSeries object"
   ]
  },
  {
   "cell_type": "code",
   "execution_count": 2,
   "metadata": {},
   "outputs": [
    {
     "name": "stderr",
     "output_type": "stream",
     "text": [
      "c:\\Users\\abrah\\OneDrive\\Applications Sandbox\\26_TIME_SERIES_ANNOTATOR\\TimeSeries.py:51: SyntaxWarning: \"is not\" with a literal. Did you mean \"!=\"?\n",
      "  if (not timeColumn is 'index'):\n",
      "C:\\Users\\abrah\\AppData\\Roaming\\Python\\Python311\\site-packages\\pandas\\core\\arrays\\masked.py:60: UserWarning: Pandas requires version '1.3.6' or newer of 'bottleneck' (version '1.3.5' currently installed).\n",
      "  from pandas.core import (\n"
     ]
    }
   ],
   "source": [
    "from TimeSeries import TimeSeries\n",
    "ts          = TimeSeries(   pathCSV=\"dfz_status_08.csv\", #path to the CSV file containing the time series data\n",
    "                            dataframe=None, #if the time series is in a DataFrame in memory, use this input instead and set pathCSV to None.\n",
    "                            preAnnotator=None, #PreAnnotator object. If you want to annotate from scratch, without any pre-annotation logic, set this to None.\n",
    "                            renameDimensionsJSON=\"renameDict_prod.json\", #path to JSON file containing new names for the columns in the CSV. If you wish to work with the same CSV columns, set to None.\n",
    "                            trimDimensionsOfInterest=True, #If true, only the columns in the JSON file will be kept. The rest will be deleted from the TimeSeries object.\n",
    "                            timeColumn=\"date\", #Name of the CSV column containing the time index. \n",
    "                            timeAxisFormat=\"ISO8601\", #Format of the time index in the CSV file. See documentation for options.\n",
    "                            unitsRow=False, #If true, the second row of the CSV will be ignored.\n",
    "                            deleteNans=False, #Whether you wish to delete NaNs.\n",
    "                            nanPlaceHolder=-999.25, #A placeholder for NaNs. If there is no placeholder, set to None.\n",
    "                            labelColumn=\"well_activity2\" ) #Name of the CSV column containing the labels. If the CSV does not contain labels, set to None.\n"
   ]
  },
  {
   "cell_type": "code",
   "execution_count": 2,
   "metadata": {},
   "outputs": [
    {
     "name": "stderr",
     "output_type": "stream",
     "text": [
      "c:\\Users\\abrah\\OneDrive\\Applications Sandbox\\26_TIME_SERIES_ANNOTATOR\\TimeSeries.py:51: SyntaxWarning: \"is not\" with a literal. Did you mean \"!=\"?\n",
      "  if (not timeColumn is 'index'):\n",
      "C:\\Users\\abrah\\AppData\\Roaming\\Python\\Python311\\site-packages\\pandas\\core\\arrays\\masked.py:60: UserWarning: Pandas requires version '1.3.6' or newer of 'bottleneck' (version '1.3.5' currently installed).\n",
      "  from pandas.core import (\n"
     ]
    },
    {
     "name": "stdout",
     "output_type": "stream",
     "text": [
      "Finished rig state update. A total of 51093 states were added to the DF, which in turn, has 51093 rows\n"
     ]
    }
   ],
   "source": [
    "from TimeSeries import TimeSeries\n",
    "ts          = TimeSeries(   pathCSV=\"example.csv\", #path to the CSV file containing the time series data\n",
    "                            dataframe=None, #if the time series is in a DataFrame in memory, use this input instead and set pathCSV to None.\n",
    "                            preAnnotator=pa, #PreAnnotator object. If you want to annotate from scratch, without any pre-annotation logic, set this to None.\n",
    "                            renameDimensionsJSON=\"renameDict.json\", #path to JSON file containing new names for the columns in the CSV. If you wish to work with the same CSV columns, set to None.\n",
    "                            trimDimensionsOfInterest=True, #If true, only the columns in the JSON file will be kept. The rest will be deleted from the TimeSeries object.\n",
    "                            timeColumn=\"TIME\", #Name of the CSV column containing the time index. \n",
    "                            timeAxisFormat=\"ISO8601\", #Format of the time index in the CSV file. See documentation for options.\n",
    "                            unitsRow=True, #If true, the second row of the CSV will be ignored.\n",
    "                            deleteNans=True, #Whether you wish to delete NaNs.\n",
    "                            nanPlaceHolder=-999.25, #A placeholder for NaNs. If there is no placeholder, set to None.\n",
    "                            labelColumn=None ) #Name of the CSV column containing the labels. If the CSV does not contain labels, set to None."
   ]
  },
  {
   "cell_type": "markdown",
   "metadata": {},
   "source": [
    "#### Step 4: Annotate!\n",
    "We simply have to call the $\\texttt{annotate( )}$ method. You may set up a parameter called $\\texttt{hoursPerPlot}$. This parameter controls the amount of time, in hours, plotted at a time. For instance, if you select 2, the first plot will display the first 2 hours of data. A message box will appear asking if the annotation of this plot has ended. If you click on the button, the plot will be closed and the next plot will pop up. The process will continue until the system has displayed the entire time series in chunks of 2 h. <br><br>\n",
    "<strong>Annotating</strong>: The process of annotating is very simple. If there are pre-existing labels, you will see various rectangles on top of the plot. The color of each rectangle is associated with one label. You can see these labels and colors on a panel of buttons on the left. <br><br>\n",
    "<strong>Modifying Annotations:</strong>You can click on the edges of any rectangle and drag it to expand or shrink it. The final time interval covered by the rectangle will be annotated with its associated label. Empty spaces will simply contain no label in the dataset.<br><br>\n",
    "<strong>Deleting Annotation:</strong>You may select a rectangle by clicking on it. If you press the delete key, it will dissapear, and the time interval covered by it assigned no label in the dataset.<br><br>\n",
    "<strong>Creating Annotations:</strong>You may select an activity \"brush\" by clicking on a label on the left panel. You can see a message on bottom that tells what brush is currently selected. This selected activity will be used when creating a new rectangle.<br>\n",
    "You may create a new rectangle by pressing the 'n' key. The new rectangle will appear from the time index the cursor is at when pressing the 'n' key to the left edge of the next rectangle on the right. Its color will be the one associated with the selected activity brush.<br><br>\n",
    "\n",
    "<strong>New Labels:</strong>If you want to utilize more labels than the ones in the pre-annotated data, or if you have no pre-annotations, you can use the $\\texttt{annotate( activityCodes )}$ parameter when calling the $\\texttt{annotate( )}$ method. Simply pass a list with the activity codes you want to use. These will appear in the left panel so you can select them to create new rectangles. <strong style=\"color: red\"><br>WARNING:</strong> The activities must be numbers. "
   ]
  },
  {
   "cell_type": "code",
   "execution_count": null,
   "metadata": {},
   "outputs": [],
   "source": [
    "%matplotlib qt\n",
    "#This magic command will enable the qt backend. Plots will appear in a new window.\n",
    "ts.annotate( hoursPerPlot=4 )"
   ]
  },
  {
   "cell_type": "markdown",
   "metadata": {},
   "source": [
    "#### Step 5: Save\n",
    "You may save the annotated TimeSeries as a CSV file by simply calling the $\\texttt{save( outPath )}$ method."
   ]
  },
  {
   "cell_type": "code",
   "execution_count": null,
   "metadata": {},
   "outputs": [],
   "source": [
    "ts.save( \"annotated.csv\" )"
   ]
  },
  {
   "cell_type": "markdown",
   "metadata": {},
   "source": [
    "#### Step 6: Visualize annotations\n",
    "You may visualize your annotations by calling the $\\texttt{plotSummaryLabels( )}$ method."
   ]
  },
  {
   "cell_type": "code",
   "execution_count": null,
   "metadata": {},
   "outputs": [],
   "source": [
    "%matplotlib inline  #This deactivates the QT backend. Plots will be displayed on the notebook instead of separate windows.\n",
    "ts.plotSummaryLabels( )"
   ]
  },
  {
   "cell_type": "markdown",
   "metadata": {},
   "source": [
    "______________________________________________________"
   ]
  },
  {
   "cell_type": "markdown",
   "metadata": {},
   "source": [
    "## Case 2: Splitting of a CSV file into chunks.\n",
    "You may also process a CSV file and split it into chunks of a certain length. This is particularly useful when the TimeSeries data is excessively long or you are only interested in a fraction of the CSV file.  "
   ]
  },
  {
   "cell_type": "markdown",
   "metadata": {},
   "source": [
    "#### Step 1: Create the PreAnnotator and TimeSeries objects like the previous case."
   ]
  },
  {
   "cell_type": "code",
   "execution_count": null,
   "metadata": {},
   "outputs": [],
   "source": [
    "from PreAnnotator import PreAnnotator\n",
    "from TimeSeries import TimeSeries\n",
    "pa          = PreAnnotator(  )\n",
    "ts          = TimeSeries(   pathCSV=\"example.csv\", #path to the CSV file containing the time series data\n",
    "                            dataframe=None, #if the time series is in a DataFrame in memory, use this input instead and set pathCSV to None.\n",
    "                            preAnnotator=pa, #PreAnnotator object. If you want to annotate from scratch, without any pre-annotation logic, set this to None.\n",
    "                            renameDimensionsJSON=\"renameDict.json\", #path to JSON file containing new names for the columns in the CSV. If you wish to work with the same CSV columns, set to None.\n",
    "                            trimDimensionsOfInterest=True, #If true, only the columns in the JSON file will be kept. The rest will be deleted from the TimeSeries object.\n",
    "                            timeColumn=\"TIME\", #Name of the CSV column containing the time index. \n",
    "                            timeAxisFormat=\"ISO8601\", #Format of the time index in the CSV file. See documentation for options.\n",
    "                            unitsRow=True, #If true, the second row of the CSV will be ignored.\n",
    "                            deleteNans=True, #Whether you wish to delete NaNs.\n",
    "                            nanPlaceHolder=-999.25, #A placeholder for NaNs. If there is no placeholder, set to None.\n",
    "                            labelColumn=None ) #Name of the CSV column containing the labels. If the CSV does not contain labels, set to None."
   ]
  },
  {
   "cell_type": "markdown",
   "metadata": {},
   "source": [
    "#### Step 2: Split the TimeSeries object.\n",
    "You may split it into chunks by calling the $\\texttt{split( segmentLength )}$ method. The parameter it receives is the length of each chunk. For instance, you may want each chunk to be 24 h long. This method will return a list of TimeSeries objects."
   ]
  },
  {
   "cell_type": "code",
   "execution_count": null,
   "metadata": {},
   "outputs": [],
   "source": [
    "chunks      = ts.split( segmentLength=24 )"
   ]
  },
  {
   "cell_type": "markdown",
   "metadata": {},
   "source": [
    "#### Step 3: Annotate the chunk of interest.\n",
    "You may not annotate the chunk of interest, save the dataset once it's been annotated, and visualize the labels, exactly as the previous case. In this example, we are selecting the third chunk."
   ]
  },
  {
   "cell_type": "code",
   "execution_count": null,
   "metadata": {},
   "outputs": [],
   "source": [
    "%matplotlib qt  #This magic command will enable the qt backend. Plots will appear in a new window.\n",
    "chunks[ 2 ].annotate( hoursPerPlot=2 )"
   ]
  },
  {
   "cell_type": "code",
   "execution_count": null,
   "metadata": {},
   "outputs": [],
   "source": [
    "chunks[ 2 ].save( \"annotated.csv\" )\n",
    "chunks[ 2 ].plotSummaryLabels( )"
   ]
  }
 ],
 "metadata": {
  "kernelspec": {
   "display_name": "base",
   "language": "python",
   "name": "python3"
  },
  "language_info": {
   "codemirror_mode": {
    "name": "ipython",
    "version": 3
   },
   "file_extension": ".py",
   "mimetype": "text/x-python",
   "name": "python",
   "nbconvert_exporter": "python",
   "pygments_lexer": "ipython3",
   "version": "3.11.5"
  }
 },
 "nbformat": 4,
 "nbformat_minor": 2
}
