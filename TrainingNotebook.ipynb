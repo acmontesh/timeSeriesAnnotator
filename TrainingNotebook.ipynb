{
 "cells": [
  {
   "cell_type": "markdown",
   "metadata": {},
   "source": [
    "# Training Time Series Classifiers Based on Deep Learning\n",
    "<strong>Abraham C. Montes</strong> <br>\n",
    "<a href=\"https://www.linkedin.com/in/abraham-c-montes-6661a841/\">LinkedIn</a>|<a href=\"https://www.abraham-montes.com/\">Personal Site</a><br>\n",
    "The University of Texas at Austin | <a href=\"https://drilling.utexas.edu/\">RAPID research consortium</a>"
   ]
  },
  {
   "cell_type": "markdown",
   "metadata": {},
   "source": [
    "Description: <br>\n",
    "The objective of this notebook is to train time-series classifiers based on deep learning for rig/well activity identification. "
   ]
  },
  {
   "cell_type": "markdown",
   "metadata": {},
   "source": [
    "<strong>Library requirements:</strong> Ensure you have PyTorch"
   ]
  },
  {
   "cell_type": "markdown",
   "metadata": {},
   "source": [
    "______________________________________________________"
   ]
  },
  {
   "cell_type": "markdown",
   "metadata": {},
   "source": [
    "## Model No. 1—LSTM"
   ]
  }
 ],
 "metadata": {
  "language_info": {
   "name": "python"
  }
 },
 "nbformat": 4,
 "nbformat_minor": 2
}
